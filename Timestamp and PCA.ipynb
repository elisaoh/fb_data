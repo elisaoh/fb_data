{
 "cells": [
  {
   "cell_type": "markdown",
   "metadata": {},
   "source": [
    "* [timestamp](#Timestamp)"
   ]
  },
  {
   "cell_type": "code",
   "execution_count": 1,
   "metadata": {},
   "outputs": [],
   "source": [
    "import pandas as pd\n",
    "import os\n",
    "import time\n",
    "\n",
    "import matplotlib.pyplot as plt\n",
    "import seaborn as sns\n",
    "import numpy as np\n",
    "from sklearn import decomposition\n",
    "%matplotlib inline"
   ]
  },
  {
   "cell_type": "code",
   "execution_count": 28,
   "metadata": {},
   "outputs": [],
   "source": [
    "data_folder = \"held_in_csv/\""
   ]
  },
  {
   "cell_type": "code",
   "execution_count": 29,
   "metadata": {},
   "outputs": [
    {
     "data": {
      "text/html": [
       "<div>\n",
       "<style scoped>\n",
       "    .dataframe tbody tr th:only-of-type {\n",
       "        vertical-align: middle;\n",
       "    }\n",
       "\n",
       "    .dataframe tbody tr th {\n",
       "        vertical-align: top;\n",
       "    }\n",
       "\n",
       "    .dataframe thead th {\n",
       "        text-align: right;\n",
       "    }\n",
       "</style>\n",
       "<table border=\"1\" class=\"dataframe\">\n",
       "  <thead>\n",
       "    <tr style=\"text-align: right;\">\n",
       "      <th></th>\n",
       "      <th>SMID</th>\n",
       "      <th>Diagnosis2</th>\n",
       "      <th>Score</th>\n",
       "    </tr>\n",
       "  </thead>\n",
       "  <tbody>\n",
       "    <tr>\n",
       "      <th>0</th>\n",
       "      <td>101378</td>\n",
       "      <td>Negative</td>\n",
       "      <td>0</td>\n",
       "    </tr>\n",
       "    <tr>\n",
       "      <th>1</th>\n",
       "      <td>103694</td>\n",
       "      <td>Positive</td>\n",
       "      <td>2</td>\n",
       "    </tr>\n",
       "    <tr>\n",
       "      <th>2</th>\n",
       "      <td>106002</td>\n",
       "      <td>Negative</td>\n",
       "      <td>0</td>\n",
       "    </tr>\n",
       "    <tr>\n",
       "      <th>3</th>\n",
       "      <td>107667</td>\n",
       "      <td>Negative</td>\n",
       "      <td>0</td>\n",
       "    </tr>\n",
       "    <tr>\n",
       "      <th>4</th>\n",
       "      <td>107776</td>\n",
       "      <td>Negative</td>\n",
       "      <td>0</td>\n",
       "    </tr>\n",
       "  </tbody>\n",
       "</table>\n",
       "</div>"
      ],
      "text/plain": [
       "     SMID Diagnosis2  Score\n",
       "0  101378   Negative      0\n",
       "1  103694   Positive      2\n",
       "2  106002   Negative      0\n",
       "3  107667   Negative      0\n",
       "4  107776   Negative      0"
      ]
     },
     "execution_count": 29,
     "metadata": {},
     "output_type": "execute_result"
    }
   ],
   "source": [
    "labels_df = pd.read_csv(data_folder + \"Y_held_in.csv\")\n",
    "labels_df.head()"
   ]
  },
  {
   "cell_type": "markdown",
   "metadata": {},
   "source": [
    "# Timestamp"
   ]
  },
  {
   "cell_type": "code",
   "execution_count": 30,
   "metadata": {},
   "outputs": [],
   "source": [
    "import datetime"
   ]
  },
  {
   "cell_type": "markdown",
   "metadata": {},
   "source": [
    "Quick note: dayofweek 0=Monday, ..., Sunday=6"
   ]
  },
  {
   "cell_type": "code",
   "execution_count": 5,
   "metadata": {},
   "outputs": [],
   "source": [
    "daytime = []\n",
    "for day in [\"Mon\",\"Tue\",\"Wed\",\"Thu\",\"Fri\",\"Sat\",\"Sun\"]:\n",
    "    daytime.append(day+\" Day\")\n",
    "    daytime.append(day+\" Night\")\n",
    "all_counts = pd.DataFrame(index=labels_df.SMID,columns=daytime+[\"sum\",\"label\",\"score\"])"
   ]
  },
  {
   "cell_type": "code",
   "execution_count": 211,
   "metadata": {},
   "outputs": [
    {
     "name": "stdout",
     "output_type": "stream",
     "text": [
      "CPU times: user 2min 47s, sys: 12.6 s, total: 3min\n",
      "Wall time: 2min 58s\n"
     ]
    }
   ],
   "source": [
    "%%time\n",
    "\n",
    "for k in range(len(labels_df)):\n",
    "\n",
    "    SMID = labels_df.SMID[k]\n",
    "    sentences_df = pd.read_csv(data_folder + str(SMID)+\".csv\")\n",
    "    sentences_df.index = pd.DatetimeIndex(pd.to_datetime(sentences_df.TimeStamp, unit='ms')).tz_localize('UTC').tz_convert('US/Central')\n",
    "    counts = sentences_df.groupby([lambda x: x.dayofweek, lambda x: x.hour]).count()\n",
    "\n",
    "    df_counts = pd.DataFrame(0, index=daytime,columns=[\"count\"])\n",
    "    df_counts = df_counts.astype('int')\n",
    "\n",
    "    for i in range(len(counts)):\n",
    "        name = counts.iloc[i,:].name\n",
    "        count = counts.iloc[i,:].Message\n",
    "        week = name[0]*2\n",
    "        if 8<=name[1]<=18:\n",
    "            df_counts.iloc[week,0] = df_counts.iloc[week,0] + count\n",
    "        else:\n",
    "            df_counts.iloc[week+1,0] = df_counts.iloc[week+1,0] + count\n",
    "    count_sum = df_counts.sum(axis=0)\n",
    "    df_counts = df_counts/count_sum\n",
    "    df_counts['sum'] = count_sum\n",
    "\n",
    "    for time in daytime:\n",
    "        all_counts.at[SMID,time] = df_counts.at[time,'count']\n",
    "    all_counts.at[SMID,\"sum\"] = count_sum\n",
    "    all_counts.at[SMID,\"label\"] = labels_df['Diagnosis2'][k]\n",
    "    all_counts.at[SMID,\"score\"] = labels_df['Score'][k]"
   ]
  },
  {
   "cell_type": "code",
   "execution_count": 210,
   "metadata": {},
   "outputs": [
    {
     "data": {
      "text/html": [
       "<div>\n",
       "<style scoped>\n",
       "    .dataframe tbody tr th:only-of-type {\n",
       "        vertical-align: middle;\n",
       "    }\n",
       "\n",
       "    .dataframe tbody tr th {\n",
       "        vertical-align: top;\n",
       "    }\n",
       "\n",
       "    .dataframe thead th {\n",
       "        text-align: right;\n",
       "    }\n",
       "</style>\n",
       "<table border=\"1\" class=\"dataframe\">\n",
       "  <thead>\n",
       "    <tr style=\"text-align: right;\">\n",
       "      <th></th>\n",
       "      <th>count</th>\n",
       "    </tr>\n",
       "  </thead>\n",
       "  <tbody>\n",
       "    <tr>\n",
       "      <td>Mon Day</td>\n",
       "      <td>0.084211</td>\n",
       "    </tr>\n",
       "    <tr>\n",
       "      <td>Mon Night</td>\n",
       "      <td>0.115789</td>\n",
       "    </tr>\n",
       "    <tr>\n",
       "      <td>Tue Day</td>\n",
       "      <td>0.063158</td>\n",
       "    </tr>\n",
       "    <tr>\n",
       "      <td>Tue Night</td>\n",
       "      <td>0.126316</td>\n",
       "    </tr>\n",
       "    <tr>\n",
       "      <td>Wed Day</td>\n",
       "      <td>0.126316</td>\n",
       "    </tr>\n",
       "    <tr>\n",
       "      <td>Wed Night</td>\n",
       "      <td>0.126316</td>\n",
       "    </tr>\n",
       "    <tr>\n",
       "      <td>Thu Day</td>\n",
       "      <td>0.042105</td>\n",
       "    </tr>\n",
       "    <tr>\n",
       "      <td>Thu Night</td>\n",
       "      <td>0.031579</td>\n",
       "    </tr>\n",
       "    <tr>\n",
       "      <td>Fri Day</td>\n",
       "      <td>0.063158</td>\n",
       "    </tr>\n",
       "    <tr>\n",
       "      <td>Fri Night</td>\n",
       "      <td>0.063158</td>\n",
       "    </tr>\n",
       "    <tr>\n",
       "      <td>Sat Day</td>\n",
       "      <td>0.021053</td>\n",
       "    </tr>\n",
       "    <tr>\n",
       "      <td>Sat Night</td>\n",
       "      <td>0.042105</td>\n",
       "    </tr>\n",
       "    <tr>\n",
       "      <td>Sun Day</td>\n",
       "      <td>0.073684</td>\n",
       "    </tr>\n",
       "    <tr>\n",
       "      <td>Sun Night</td>\n",
       "      <td>0.021053</td>\n",
       "    </tr>\n",
       "  </tbody>\n",
       "</table>\n",
       "</div>"
      ],
      "text/plain": [
       "              count\n",
       "Mon Day    0.084211\n",
       "Mon Night  0.115789\n",
       "Tue Day    0.063158\n",
       "Tue Night  0.126316\n",
       "Wed Day    0.126316\n",
       "Wed Night  0.126316\n",
       "Thu Day    0.042105\n",
       "Thu Night  0.031579\n",
       "Fri Day    0.063158\n",
       "Fri Night  0.063158\n",
       "Sat Day    0.021053\n",
       "Sat Night  0.042105\n",
       "Sun Day    0.073684\n",
       "Sun Night  0.021053"
      ]
     },
     "execution_count": 210,
     "metadata": {},
     "output_type": "execute_result"
    }
   ],
   "source": [
    "df_counts/df_counts.sum(axis=0)"
   ]
  },
  {
   "cell_type": "code",
   "execution_count": 201,
   "metadata": {},
   "outputs": [],
   "source": [
    "all_counts.to_csv(\"counts.csv\")"
   ]
  },
  {
   "cell_type": "markdown",
   "metadata": {},
   "source": [
    "# 7 days"
   ]
  },
  {
   "cell_type": "code",
   "execution_count": 31,
   "metadata": {},
   "outputs": [],
   "source": [
    "\n",
    "daytime = [\"Mon\",\"Tue\",\"Wed\",\"Thu\",\"Fri\",\"Sat\",\"Sun\"]\n",
    "all_counts = pd.DataFrame(index=labels_df.SMID,columns=daytime+[\"sum\",\"label\",\"score\"])"
   ]
  },
  {
   "cell_type": "code",
   "execution_count": 32,
   "metadata": {},
   "outputs": [
    {
     "name": "stderr",
     "output_type": "stream",
     "text": [
      "<decorator-gen-61>:2: DtypeWarning: Columns (9) have mixed types.Specify dtype option on import or set low_memory=False.\n",
      "<decorator-gen-61>:2: DtypeWarning: Columns (7,9) have mixed types.Specify dtype option on import or set low_memory=False.\n"
     ]
    },
    {
     "name": "stdout",
     "output_type": "stream",
     "text": [
      "CPU times: user 1min 26s, sys: 2.63 s, total: 1min 28s\n",
      "Wall time: 1min 30s\n"
     ]
    }
   ],
   "source": [
    "%%time\n",
    "\n",
    "for k in range(len(labels_df)):\n",
    "\n",
    "    SMID = labels_df.SMID[k]\n",
    "    sentences_df = pd.read_csv(data_folder + str(SMID)+\".csv\")\n",
    "    sentences_df.index = pd.DatetimeIndex(pd.to_datetime(sentences_df.TimeStamp, unit='ms')).tz_localize('UTC').tz_convert('US/Central')\n",
    "    counts = sentences_df.groupby([lambda x: x.dayofweek, lambda x: x.hour]).count()\n",
    "\n",
    "    df_counts = pd.DataFrame(0, index=daytime,columns=[\"count\"])\n",
    "    df_counts = df_counts.astype('int')\n",
    "\n",
    "    for i in range(len(counts)):\n",
    "        name = counts.iloc[i,:].name\n",
    "        count = counts.iloc[i,:].Message\n",
    "        week = name[0]\n",
    "        df_counts.iloc[week,0] = df_counts.iloc[week,0] + count\n",
    "        \n",
    "    count_sum = df_counts.sum(axis=0)\n",
    "    df_counts = df_counts/count_sum\n",
    "    df_counts['sum'] = count_sum\n",
    "\n",
    "    for time in daytime:\n",
    "        all_counts.at[SMID,time] = df_counts.at[time,'count']\n",
    "    all_counts.at[SMID,\"sum\"] = count_sum\n",
    "    all_counts.at[SMID,\"label\"] = labels_df['Diagnosis2'][k]\n",
    "    all_counts.at[SMID,\"score\"] = labels_df['Score'][k]"
   ]
  },
  {
   "cell_type": "code",
   "execution_count": 33,
   "metadata": {},
   "outputs": [],
   "source": [
    "all_counts.to_csv(\"counts_7.csv\")"
   ]
  },
  {
   "cell_type": "code",
   "execution_count": 35,
   "metadata": {},
   "outputs": [
    {
     "data": {
      "text/html": [
       "<div>\n",
       "<style scoped>\n",
       "    .dataframe tbody tr th:only-of-type {\n",
       "        vertical-align: middle;\n",
       "    }\n",
       "\n",
       "    .dataframe tbody tr th {\n",
       "        vertical-align: top;\n",
       "    }\n",
       "\n",
       "    .dataframe thead th {\n",
       "        text-align: right;\n",
       "    }\n",
       "</style>\n",
       "<table border=\"1\" class=\"dataframe\">\n",
       "  <thead>\n",
       "    <tr style=\"text-align: right;\">\n",
       "      <th></th>\n",
       "      <th>Mon</th>\n",
       "      <th>Tue</th>\n",
       "      <th>Wed</th>\n",
       "      <th>Thu</th>\n",
       "      <th>Fri</th>\n",
       "      <th>Sat</th>\n",
       "      <th>Sun</th>\n",
       "      <th>sum</th>\n",
       "      <th>label</th>\n",
       "      <th>score</th>\n",
       "    </tr>\n",
       "    <tr>\n",
       "      <th>SMID</th>\n",
       "      <th></th>\n",
       "      <th></th>\n",
       "      <th></th>\n",
       "      <th></th>\n",
       "      <th></th>\n",
       "      <th></th>\n",
       "      <th></th>\n",
       "      <th></th>\n",
       "      <th></th>\n",
       "      <th></th>\n",
       "    </tr>\n",
       "  </thead>\n",
       "  <tbody>\n",
       "    <tr>\n",
       "      <th>101378</th>\n",
       "      <td>0.057514</td>\n",
       "      <td>0.068646</td>\n",
       "      <td>0.291280</td>\n",
       "      <td>0.155844</td>\n",
       "      <td>0.168831</td>\n",
       "      <td>0.066790</td>\n",
       "      <td>0.191095</td>\n",
       "      <td>count    539\\ndtype: int64</td>\n",
       "      <td>Negative</td>\n",
       "      <td>0</td>\n",
       "    </tr>\n",
       "    <tr>\n",
       "      <th>103694</th>\n",
       "      <td>0.166939</td>\n",
       "      <td>0.133209</td>\n",
       "      <td>0.167329</td>\n",
       "      <td>0.100647</td>\n",
       "      <td>0.136948</td>\n",
       "      <td>0.111864</td>\n",
       "      <td>0.183065</td>\n",
       "      <td>count    12837\\ndtype: int64</td>\n",
       "      <td>Positive</td>\n",
       "      <td>2</td>\n",
       "    </tr>\n",
       "    <tr>\n",
       "      <th>106002</th>\n",
       "      <td>0.153758</td>\n",
       "      <td>0.150040</td>\n",
       "      <td>0.142693</td>\n",
       "      <td>0.151589</td>\n",
       "      <td>0.155085</td>\n",
       "      <td>0.097194</td>\n",
       "      <td>0.149641</td>\n",
       "      <td>count    22594\\ndtype: int64</td>\n",
       "      <td>Negative</td>\n",
       "      <td>0</td>\n",
       "    </tr>\n",
       "    <tr>\n",
       "      <th>107667</th>\n",
       "      <td>0.135276</td>\n",
       "      <td>0.142040</td>\n",
       "      <td>0.158689</td>\n",
       "      <td>0.248179</td>\n",
       "      <td>0.080125</td>\n",
       "      <td>0.104058</td>\n",
       "      <td>0.131634</td>\n",
       "      <td>count    1922\\ndtype: int64</td>\n",
       "      <td>Negative</td>\n",
       "      <td>0</td>\n",
       "    </tr>\n",
       "    <tr>\n",
       "      <th>107776</th>\n",
       "      <td>0.121941</td>\n",
       "      <td>0.181134</td>\n",
       "      <td>0.148504</td>\n",
       "      <td>0.131981</td>\n",
       "      <td>0.095378</td>\n",
       "      <td>0.139092</td>\n",
       "      <td>0.181970</td>\n",
       "      <td>count    4781\\ndtype: int64</td>\n",
       "      <td>Negative</td>\n",
       "      <td>0</td>\n",
       "    </tr>\n",
       "  </tbody>\n",
       "</table>\n",
       "</div>"
      ],
      "text/plain": [
       "             Mon       Tue       Wed       Thu       Fri       Sat       Sun  \\\n",
       "SMID                                                                           \n",
       "101378  0.057514  0.068646  0.291280  0.155844  0.168831  0.066790  0.191095   \n",
       "103694  0.166939  0.133209  0.167329  0.100647  0.136948  0.111864  0.183065   \n",
       "106002  0.153758  0.150040  0.142693  0.151589  0.155085  0.097194  0.149641   \n",
       "107667  0.135276  0.142040  0.158689  0.248179  0.080125  0.104058  0.131634   \n",
       "107776  0.121941  0.181134  0.148504  0.131981  0.095378  0.139092  0.181970   \n",
       "\n",
       "                                 sum     label  score  \n",
       "SMID                                                   \n",
       "101378    count    539\\ndtype: int64  Negative      0  \n",
       "103694  count    12837\\ndtype: int64  Positive      2  \n",
       "106002  count    22594\\ndtype: int64  Negative      0  \n",
       "107667   count    1922\\ndtype: int64  Negative      0  \n",
       "107776   count    4781\\ndtype: int64  Negative      0  "
      ]
     },
     "execution_count": 35,
     "metadata": {},
     "output_type": "execute_result"
    }
   ],
   "source": [
    "all_counts.head()"
   ]
  },
  {
   "cell_type": "markdown",
   "metadata": {},
   "source": [
    "# weekdays"
   ]
  },
  {
   "cell_type": "code",
   "execution_count": 45,
   "metadata": {},
   "outputs": [],
   "source": [
    "daytime = [\"weekdays\",\"weekends\"]\n",
    "all_counts = pd.DataFrame(index=labels_df.SMID,columns=daytime+[\"sum\",\"label\",\"score\"])"
   ]
  },
  {
   "cell_type": "code",
   "execution_count": 46,
   "metadata": {},
   "outputs": [
    {
     "name": "stderr",
     "output_type": "stream",
     "text": [
      "<decorator-gen-61>:2: DtypeWarning: Columns (9) have mixed types.Specify dtype option on import or set low_memory=False.\n",
      "<decorator-gen-61>:2: DtypeWarning: Columns (7,9) have mixed types.Specify dtype option on import or set low_memory=False.\n"
     ]
    },
    {
     "name": "stdout",
     "output_type": "stream",
     "text": [
      "CPU times: user 1min 26s, sys: 1.23 s, total: 1min 27s\n",
      "Wall time: 1min 27s\n"
     ]
    }
   ],
   "source": [
    "%%time\n",
    "\n",
    "for k in range(len(labels_df)):\n",
    "\n",
    "    SMID = labels_df.SMID[k]\n",
    "    sentences_df = pd.read_csv(data_folder + str(SMID)+\".csv\")\n",
    "    sentences_df.index = pd.DatetimeIndex(pd.to_datetime(sentences_df.TimeStamp, unit='ms')).tz_localize('UTC').tz_convert('US/Central')\n",
    "    counts = sentences_df.groupby([lambda x: x.dayofweek, lambda x: x.hour]).count()\n",
    "\n",
    "    df_counts = pd.DataFrame(0, index=daytime,columns=[\"count\"])\n",
    "    df_counts = df_counts.astype('int')\n",
    "\n",
    "    for i in range(len(counts)):\n",
    "        name = counts.iloc[i,:].name\n",
    "        count = counts.iloc[i,:].Message\n",
    "        week = name[0]\n",
    "        if week <4:\n",
    "            df_counts.iloc[0,0] = df_counts.iloc[0,0] + count\n",
    "        else:\n",
    "            df_counts.iloc[1,0] = df_counts.iloc[1,0] + count\n",
    "        \n",
    "    count_sum = df_counts.sum(axis=0)\n",
    "    df_counts = df_counts/count_sum\n",
    "    df_counts['sum'] = count_sum\n",
    "\n",
    "    for time in daytime:\n",
    "        all_counts.at[SMID,time] = df_counts.at[time,'count']\n",
    "    all_counts.at[SMID,\"sum\"] = count_sum\n",
    "    all_counts.at[SMID,\"label\"] = labels_df['Diagnosis2'][k]\n",
    "    all_counts.at[SMID,\"score\"] = labels_df['Score'][k]"
   ]
  },
  {
   "cell_type": "code",
   "execution_count": 47,
   "metadata": {},
   "outputs": [],
   "source": [
    "all_counts.to_csv(\"counts_2.csv\")"
   ]
  },
  {
   "cell_type": "markdown",
   "metadata": {},
   "source": [
    "# Linear regression"
   ]
  },
  {
   "cell_type": "code",
   "execution_count": 48,
   "metadata": {},
   "outputs": [],
   "source": [
    "all_counts = pd.read_csv(\"counts_2.csv\",index_col=\"SMID\")\n",
    "all_counts = all_counts.fillna(0)"
   ]
  },
  {
   "cell_type": "code",
   "execution_count": 37,
   "metadata": {},
   "outputs": [],
   "source": [
    "from sklearn import datasets, linear_model\n",
    "from sklearn.model_selection import train_test_split\n",
    "from matplotlib import pyplot as plt\n",
    "from sklearn.metrics import classification_report"
   ]
  },
  {
   "cell_type": "code",
   "execution_count": 9,
   "metadata": {},
   "outputs": [],
   "source": [
    "X_train, X_test, y_train, y_test = train_test_split(all_counts.iloc[:,0:14].values, \n",
    "                                                    all_counts['label'].values, test_size=0.2, stratify=all_counts['label'].values)"
   ]
  },
  {
   "cell_type": "markdown",
   "metadata": {},
   "source": [
    "n_samples / (n_classes * np.bincount(y))"
   ]
  },
  {
   "cell_type": "code",
   "execution_count": 50,
   "metadata": {},
   "outputs": [],
   "source": [
    "X = all_counts.iloc[:,0:2].values\n",
    "y = all_counts['label'].values"
   ]
  },
  {
   "cell_type": "code",
   "execution_count": 273,
   "metadata": {},
   "outputs": [
    {
     "name": "stdout",
     "output_type": "stream",
     "text": [
      "              precision    recall  f1-score   support\n",
      "\n",
      "    Negative       0.78      0.64      0.70       103\n",
      "    Positive       0.24      0.39      0.30        31\n",
      "\n",
      "    accuracy                           0.58       134\n",
      "   macro avg       0.51      0.51      0.50       134\n",
      "weighted avg       0.65      0.58      0.61       134\n",
      "\n",
      "              precision    recall  f1-score   support\n",
      "\n",
      "    Negative       0.78      0.66      0.71       411\n",
      "    Positive       0.26      0.39      0.31       125\n",
      "\n",
      "    accuracy                           0.60       536\n",
      "   macro avg       0.52      0.52      0.51       536\n",
      "weighted avg       0.66      0.60      0.62       536\n",
      "\n"
     ]
    },
    {
     "name": "stderr",
     "output_type": "stream",
     "text": [
      "/Users/elisa/miniconda3/envs/lucky/lib/python3.7/site-packages/sklearn/linear_model/logistic.py:432: FutureWarning: Default solver will be changed to 'lbfgs' in 0.22. Specify a solver to silence this warning.\n",
      "  FutureWarning)\n"
     ]
    }
   ],
   "source": [
    "X_train, X_test, y_train, y_test = train_test_split(X, y, test_size=0.2, stratify=y)\n",
    "\n",
    "lm = linear_model.LogisticRegression(class_weight='balanced')\n",
    "model = lm.fit(X_train, y_train)\n",
    "predictions = lm.predict(X_test)\n",
    "\n",
    "print(classification_report(y_test, predictions))\n",
    "print(classification_report(y_train, lm.predict(X_train)))"
   ]
  },
  {
   "cell_type": "code",
   "execution_count": 39,
   "metadata": {},
   "outputs": [],
   "source": [
    "from sklearn.model_selection import cross_val_predict,cross_val_score"
   ]
  },
  {
   "cell_type": "code",
   "execution_count": 52,
   "metadata": {},
   "outputs": [
    {
     "name": "stdout",
     "output_type": "stream",
     "text": [
      "              precision    recall  f1-score   support\n",
      "\n",
      "    Negative       0.77      0.80      0.79       514\n",
      "    Positive       0.25      0.22      0.24       156\n",
      "\n",
      "    accuracy                           0.67       670\n",
      "   macro avg       0.51      0.51      0.51       670\n",
      "weighted avg       0.65      0.67      0.66       670\n",
      "\n",
      "              precision    recall  f1-score   support\n",
      "\n",
      "    Negative       0.77      1.00      0.87       514\n",
      "    Positive       0.00      0.00      0.00       156\n",
      "\n",
      "    accuracy                           0.77       670\n",
      "   macro avg       0.38      0.50      0.43       670\n",
      "weighted avg       0.59      0.77      0.67       670\n",
      "\n"
     ]
    },
    {
     "name": "stderr",
     "output_type": "stream",
     "text": [
      "/home/i/miniconda3/envs/pytorch/lib/python3.8/site-packages/sklearn/metrics/_classification.py:1272: UndefinedMetricWarning: Precision and F-score are ill-defined and being set to 0.0 in labels with no predicted samples. Use `zero_division` parameter to control this behavior.\n",
      "  _warn_prf(average, modifier, msg_start, len(result))\n"
     ]
    }
   ],
   "source": [
    "lm = linear_model.LogisticRegression(class_weight='balanced')\n",
    "predictions = cross_val_predict(lm, X, y, cv=5)\n",
    "print(classification_report(y, predictions))\n",
    "\n",
    "lm = linear_model.LogisticRegression()\n",
    "predictions = cross_val_predict(lm, X, y, cv=5)\n",
    "print(classification_report(y, predictions))\n"
   ]
  },
  {
   "cell_type": "code",
   "execution_count": null,
   "metadata": {},
   "outputs": [],
   "source": []
  }
 ],
 "metadata": {
  "kernelspec": {
   "display_name": "Python 3",
   "language": "python",
   "name": "python3"
  },
  "language_info": {
   "codemirror_mode": {
    "name": "ipython",
    "version": 3
   },
   "file_extension": ".py",
   "mimetype": "text/x-python",
   "name": "python",
   "nbconvert_exporter": "python",
   "pygments_lexer": "ipython3",
   "version": "3.8.1"
  }
 },
 "nbformat": 4,
 "nbformat_minor": 4
}
